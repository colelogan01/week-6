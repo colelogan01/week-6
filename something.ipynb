{
 "cells": [
  {
   "cell_type": "code",
   "execution_count": 2,
   "metadata": {},
   "outputs": [
    {
     "name": "stdin",
     "output_type": "stream",
     "text": [
      "whats ya name justin\n",
      "whats ya favorite number 12\n",
      "what physical object do you hate the most that bag\n"
     ]
    },
    {
     "name": "stdout",
     "output_type": "stream",
     "text": [
      "justin is a that bag\n",
      "justin is a that bag\n",
      "justin is a that bag\n",
      "justin is a that bag\n",
      "justin is a that bag\n",
      "justin is a that bag\n",
      "justin is a that bag\n",
      "justin is a that bag\n",
      "justin is a that bag\n",
      "justin is a that bag\n",
      "justin is a that bag\n",
      "justin is a that bag\n"
     ]
    }
   ],
   "source": [
    "name = input(\"whats ya name\")\n",
    "num = int(input(\"whats ya favorite number\"))\n",
    "word = input(\"what physical object do you hate the most\")\n",
    "for i in range(num):\n",
    "    print(name+\" is a \"+ word)"
   ]
  },
  {
   "cell_type": "code",
   "execution_count": null,
   "metadata": {},
   "outputs": [],
   "source": []
  }
 ],
 "metadata": {
  "kernelspec": {
   "display_name": "Python 3.7",
   "language": "python",
   "name": "python3"
  },
  "language_info": {
   "codemirror_mode": {
    "name": "ipython",
    "version": 3
   },
   "file_extension": ".py",
   "mimetype": "text/x-python",
   "name": "python",
   "nbconvert_exporter": "python",
   "pygments_lexer": "ipython3",
   "version": "3.7.0"
  }
 },
 "nbformat": 4,
 "nbformat_minor": 2
}
